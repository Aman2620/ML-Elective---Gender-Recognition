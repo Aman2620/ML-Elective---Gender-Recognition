{
 "cells": [
  {
   "cell_type": "code",
   "execution_count": 1,
   "id": "9e1e3f2d",
   "metadata": {},
   "outputs": [],
   "source": [
    "import pandas as pd\n",
    "import numpy as np\n",
    "import tqdm"
   ]
  },
  {
   "cell_type": "code",
   "execution_count": 2,
   "id": "fcc714bf",
   "metadata": {},
   "outputs": [],
   "source": [
    "df = pd.read_csv('balanced-all.csv')"
   ]
  },
  {
   "cell_type": "code",
   "execution_count": 3,
   "id": "152a3c11",
   "metadata": {},
   "outputs": [
    {
     "data": {
      "text/html": [
       "<div>\n",
       "<style scoped>\n",
       "    .dataframe tbody tr th:only-of-type {\n",
       "        vertical-align: middle;\n",
       "    }\n",
       "\n",
       "    .dataframe tbody tr th {\n",
       "        vertical-align: top;\n",
       "    }\n",
       "\n",
       "    .dataframe thead th {\n",
       "        text-align: right;\n",
       "    }\n",
       "</style>\n",
       "<table border=\"1\" class=\"dataframe\">\n",
       "  <thead>\n",
       "    <tr style=\"text-align: right;\">\n",
       "      <th></th>\n",
       "      <th>filename</th>\n",
       "      <th>gender</th>\n",
       "    </tr>\n",
       "  </thead>\n",
       "  <tbody>\n",
       "    <tr>\n",
       "      <th>0</th>\n",
       "      <td>data/cv-other-train/sample-069205.npy</td>\n",
       "      <td>female</td>\n",
       "    </tr>\n",
       "    <tr>\n",
       "      <th>1</th>\n",
       "      <td>data/cv-valid-train/sample-063134.npy</td>\n",
       "      <td>female</td>\n",
       "    </tr>\n",
       "    <tr>\n",
       "      <th>2</th>\n",
       "      <td>data/cv-other-train/sample-080873.npy</td>\n",
       "      <td>female</td>\n",
       "    </tr>\n",
       "    <tr>\n",
       "      <th>3</th>\n",
       "      <td>data/cv-other-train/sample-105595.npy</td>\n",
       "      <td>female</td>\n",
       "    </tr>\n",
       "    <tr>\n",
       "      <th>4</th>\n",
       "      <td>data/cv-valid-train/sample-144613.npy</td>\n",
       "      <td>female</td>\n",
       "    </tr>\n",
       "  </tbody>\n",
       "</table>\n",
       "</div>"
      ],
      "text/plain": [
       "                                filename  gender\n",
       "0  data/cv-other-train/sample-069205.npy  female\n",
       "1  data/cv-valid-train/sample-063134.npy  female\n",
       "2  data/cv-other-train/sample-080873.npy  female\n",
       "3  data/cv-other-train/sample-105595.npy  female\n",
       "4  data/cv-valid-train/sample-144613.npy  female"
      ]
     },
     "execution_count": 3,
     "metadata": {},
     "output_type": "execute_result"
    }
   ],
   "source": [
    "df.head()"
   ]
  },
  {
   "cell_type": "code",
   "execution_count": 4,
   "id": "25ae37fa",
   "metadata": {},
   "outputs": [
    {
     "name": "stdout",
     "output_type": "stream",
     "text": [
      "Total number of samples:  66938\n",
      "Total male samples:  33469\n",
      "Total female samples:  33469\n"
     ]
    }
   ],
   "source": [
    "print(\"Total number of samples: \",len(df))\n",
    "print(\"Total male samples: \", len(df[df['gender']=='male']))\n",
    "print(\"Total female samples: \", len(df[df['gender']=='female']))"
   ]
  },
  {
   "cell_type": "code",
   "execution_count": 5,
   "id": "9c5ee10f",
   "metadata": {},
   "outputs": [],
   "source": [
    "import seaborn as sns"
   ]
  },
  {
   "cell_type": "code",
   "execution_count": 6,
   "id": "189a8a2f",
   "metadata": {},
   "outputs": [
    {
     "data": {
      "text/plain": [
       "<AxesSubplot:xlabel='gender', ylabel='count'>"
      ]
     },
     "execution_count": 6,
     "metadata": {},
     "output_type": "execute_result"
    },
    {
     "data": {
      "image/png": "[encoded data removed]",
      "text/plain": [
       "<Figure size 432x288 with 1 Axes>"
      ]
     },
     "metadata": {
      "needs_background": "light"
     },
     "output_type": "display_data"
    }
   ],
   "source": [
    "sns.set(rc={'figure.figsize':(15, 5)})\n",
    "sns.countplot(x=\"gender\", \n",
    "        data=df)\n"
   ]
  },
  {
   "cell_type": "code",
   "execution_count": 7,
   "id": "4d89408e",
   "metadata": {},
   "outputs": [],
   "source": [
    "label2int = {\n",
    "    \"male\": 1,\n",
    "    \"female\": 0\n",
    "}\n",
    "\n",
    "def load_data(vector_length=128):\n",
    "    if not os.path.isdir(\"results\"):\n",
    "        os.mkdir(\"results\")\n",
    "    if os.path.isfile(\"results/features.npy\") and os.path.isfile(\"results/labels.npy\"):\n",
    "        X = np.load(\"results/features.npy\")\n",
    "        y = np.load(\"results/labels.npy\")\n",
    "        return X, y\n",
    "    # read dataframe\n",
    "    df = pd.read_csv(\"balanced-all.csv\")\n",
    "    # get total samples\n",
    "    n_samples = len(df)\n",
    "    # get total male samples\n",
    "    n_male_samples = len(df[df['gender'] == 'male'])\n",
    "    # get total female samples\n",
    "    n_female_samples = len(df[df['gender'] == 'female'])\n",
    "    print(\"Total samples:\", n_samples)\n",
    "    print(\"Total male samples:\", n_male_samples)\n",
    "    print(\"Total female samples:\", n_female_samples)\n",
    "    # initialize an empty array for all audio features\n",
    "    X = np.zeros((n_samples, vector_length))\n",
    "    # initialize an empty array for all audio labels (1 for male and 0 for female)\n",
    "    y = np.zeros((n_samples, 1))\n",
    "    for i, (filename, gender) in tqdm.tqdm(enumerate(zip(df['filename'], df['gender'])), \"Loading data\", total=n_samples):\n",
    "        features = np.load(filename)\n",
    "        X[i] = features\n",
    "        y[i] = label2int[gender]\n",
    "    np.save(\"results/features\", X)\n",
    "    np.save(\"results/labels\", y)\n",
    "    return X, y"
   ]
  },
  {
   "cell_type": "code",
   "execution_count": 8,
   "id": "30c0ec7f",
   "metadata": {},
   "outputs": [],
   "source": [
    "def split_data(X, y, test_size=0.1, valid_size=0.1):\n",
    "    # split training set and testing set\n",
    "    X_train, X_test, y_train, y_test = train_test_split(X, y, test_size=test_size, random_state=7)\n",
    "    # split training set and validation set\n",
    "    X_train, X_valid, y_train, y_valid = train_test_split(X_train, y_train, test_size=valid_size, random_state=7)\n",
    "    # return a dictionary of values\n",
    "    return {\n",
    "        \"X_train\": X_train,\n",
    "        \"X_valid\": X_valid,\n",
    "        \"X_test\": X_test,\n",
    "        \"y_train\": y_train,\n",
    "        \"y_valid\": y_valid,\n",
    "        \"y_test\": y_test\n",
    "    }"
   ]
  },
  {
   "cell_type": "code",
   "execution_count": 9,
   "id": "a46c6a43",
   "metadata": {},
   "outputs": [],
   "source": [
    "import os\n",
    "from tensorflow.keras.models import Sequential\n",
    "from tensorflow.keras.layers import Dense, LSTM, Dropout\n",
    "from tensorflow.keras.callbacks import ModelCheckpoint, TensorBoard, EarlyStopping\n",
    "from sklearn.model_selection import train_test_split"
   ]
  },
  {
   "cell_type": "code",
   "execution_count": 10,
   "id": "35304c75",
   "metadata": {},
   "outputs": [],
   "source": [
    "X, y = load_data()\n",
    "# split the data into training, validation and testing sets\n",
    "data = split_data(X, y, test_size=0.1, valid_size=0.1)"
   ]
  },
  {
   "cell_type": "code",
   "execution_count": 11,
   "id": "5921d068",
   "metadata": {},
   "outputs": [],
   "source": [
    "def create_model(vector_length=128):\n",
    "    \"\"\"5 hidden dense layers from 256 units to 64, not the best model.\"\"\"\n",
    "    model = Sequential()\n",
    "    model.add(Dense(256, input_shape=(vector_length,)))\n",
    "    model.add(Dropout(0.3))\n",
    "    model.add(Dense(256, activation=\"relu\"))\n",
    "    model.add(Dropout(0.3))\n",
    "    model.add(Dense(128, activation=\"relu\"))\n",
    "    model.add(Dropout(0.3))\n",
    "    model.add(Dense(128, activation=\"relu\"))\n",
    "    model.add(Dropout(0.3))\n",
    "    model.add(Dense(64, activation=\"relu\"))\n",
    "    model.add(Dropout(0.3))\n",
    "    # one output neuron with sigmoid activation function, 0 means female, 1 means male\n",
    "    model.add(Dense(1, activation=\"sigmoid\"))\n",
    "    # using binary crossentropy as it's male/female classification (binary)\n",
    "    model.compile(loss=\"binary_crossentropy\", metrics=[\"accuracy\"], optimizer=\"adam\")\n",
    "    # print summary of the model\n",
    "    model.summary()\n",
    "    return model"
   ]
  },
  {
   "cell_type": "code",
   "execution_count": 12,
   "id": "9e78265b",
   "metadata": {},
   "outputs": [
    {
     "name": "stdout",
     "output_type": "stream",
     "text": [
      "Model: \"sequential\"\n",
      "_________________________________________________________________\n",
      " Layer (type)                Output Shape              Param #   \n",
      "=================================================================\n",
      " dense (Dense)               (None, 256)               33024     \n",
      "                                                                 \n",
      " dropout (Dropout)           (None, 256)               0         \n",
      "                                                                 \n",
      " dense_1 (Dense)             (None, 256)               65792     \n",
      "                                                                 \n",
      " dropout_1 (Dropout)         (None, 256)               0         \n",
      "                                                                 \n",
      " dense_2 (Dense)             (None, 128)               32896     \n",
      "                                                                 \n",
      " dropout_2 (Dropout)         (None, 128)               0         \n",
      "                                                                 \n",
      " dense_3 (Dense)             (None, 128)               16512     \n",
      "                                                                 \n",
      " dropout_3 (Dropout)         (None, 128)               0         \n",
      "                                                                 \n",
      " dense_4 (Dense)             (None, 64)                8256      \n",
      "                                                                 \n",
      " dropout_4 (Dropout)         (None, 64)                0         \n",
      "                                                                 \n",
      " dense_5 (Dense)             (None, 1)                 65        \n",
      "                                                                 \n",
      "=================================================================\n",
      "Total params: 156,545\n",
      "Trainable params: 156,545\n",
      "Non-trainable params: 0\n",
      "_________________________________________________________________\n"
     ]
    }
   ],
   "source": [
    "model = create_model()"
   ]
  },
  {
   "cell_type": "code",
   "execution_count": 13,
   "id": "2548b282",
   "metadata": {},
   "outputs": [
    {
     "name": "stdout",
     "output_type": "stream",
     "text": [
      "Epoch 1/100\n",
      "848/848 [==============================] - 4s 3ms/step - loss: 0.5729 - accuracy: 0.7609 - val_loss: 0.3929 - val_accuracy: 0.8413\n",
      "Epoch 2/100\n",
      "848/848 [==============================] - 3s 3ms/step - loss: 0.4205 - accuracy: 0.8325 - val_loss: 0.3323 - val_accuracy: 0.8667\n",
      "Epoch 3/100\n",
      "848/848 [==============================] - 3s 3ms/step - loss: 0.3855 - accuracy: 0.8484 - val_loss: 0.3164 - val_accuracy: 0.8699\n",
      "Epoch 4/100\n",
      "848/848 [==============================] - 3s 3ms/step - loss: 0.3621 - accuracy: 0.8594 - val_loss: 0.3134 - val_accuracy: 0.8727\n",
      "Epoch 5/100\n",
      "848/848 [==============================] - 3s 4ms/step - loss: 0.3467 - accuracy: 0.8664 - val_loss: 0.2959 - val_accuracy: 0.8873\n",
      "Epoch 6/100\n",
      "848/848 [==============================] - 3s 3ms/step - loss: 0.3405 - accuracy: 0.8712 - val_loss: 0.2961 - val_accuracy: 0.8866\n",
      "Epoch 7/100\n",
      "848/848 [==============================] - 3s 3ms/step - loss: 0.3282 - accuracy: 0.8746 - val_loss: 0.2811 - val_accuracy: 0.8948\n",
      "Epoch 8/100\n",
      "848/848 [==============================] - 3s 3ms/step - loss: 0.3219 - accuracy: 0.8760 - val_loss: 0.2700 - val_accuracy: 0.8966\n",
      "Epoch 9/100\n",
      "848/848 [==============================] - 3s 3ms/step - loss: 0.3149 - accuracy: 0.8807 - val_loss: 0.2763 - val_accuracy: 0.9012\n",
      "Epoch 10/100\n",
      "848/848 [==============================] - 3s 4ms/step - loss: 0.3136 - accuracy: 0.8815 - val_loss: 0.2697 - val_accuracy: 0.8973\n",
      "Epoch 11/100\n",
      "848/848 [==============================] - 3s 3ms/step - loss: 0.3045 - accuracy: 0.8845 - val_loss: 0.2571 - val_accuracy: 0.9019\n",
      "Epoch 12/100\n",
      "848/848 [==============================] - 4s 4ms/step - loss: 0.2993 - accuracy: 0.8877 - val_loss: 0.2575 - val_accuracy: 0.8959\n",
      "Epoch 13/100\n",
      "848/848 [==============================] - 3s 4ms/step - loss: 0.2967 - accuracy: 0.8886 - val_loss: 0.2584 - val_accuracy: 0.9077\n",
      "Epoch 14/100\n",
      "848/848 [==============================] - 3s 3ms/step - loss: 0.2964 - accuracy: 0.8890 - val_loss: 0.2548 - val_accuracy: 0.9061\n",
      "Epoch 15/100\n",
      "848/848 [==============================] - 3s 3ms/step - loss: 0.2911 - accuracy: 0.8904 - val_loss: 0.2521 - val_accuracy: 0.9072\n",
      "Epoch 16/100\n",
      "848/848 [==============================] - 3s 3ms/step - loss: 0.2890 - accuracy: 0.8928 - val_loss: 0.2465 - val_accuracy: 0.9071\n",
      "Epoch 17/100\n",
      "848/848 [==============================] - 3s 3ms/step - loss: 0.2838 - accuracy: 0.8933 - val_loss: 0.2447 - val_accuracy: 0.9052\n",
      "Epoch 18/100\n",
      "848/848 [==============================] - 3s 3ms/step - loss: 0.2835 - accuracy: 0.8936 - val_loss: 0.2642 - val_accuracy: 0.9044\n",
      "Epoch 19/100\n",
      "848/848 [==============================] - 3s 3ms/step - loss: 0.2814 - accuracy: 0.8947 - val_loss: 0.2445 - val_accuracy: 0.9057\n",
      "Epoch 20/100\n",
      "848/848 [==============================] - 3s 3ms/step - loss: 0.2808 - accuracy: 0.8964 - val_loss: 0.2490 - val_accuracy: 0.9122\n",
      "Epoch 21/100\n",
      "848/848 [==============================] - 3s 3ms/step - loss: 0.2780 - accuracy: 0.8962 - val_loss: 0.2396 - val_accuracy: 0.9130\n",
      "Epoch 22/100\n",
      "848/848 [==============================] - 3s 3ms/step - loss: 0.2765 - accuracy: 0.8957 - val_loss: 0.2449 - val_accuracy: 0.9051\n",
      "Epoch 23/100\n",
      "848/848 [==============================] - 3s 3ms/step - loss: 0.2729 - accuracy: 0.9001 - val_loss: 0.2436 - val_accuracy: 0.9092\n",
      "Epoch 24/100\n",
      "848/848 [==============================] - 3s 3ms/step - loss: 0.2714 - accuracy: 0.8989 - val_loss: 0.2358 - val_accuracy: 0.9139\n",
      "Epoch 25/100\n",
      "848/848 [==============================] - 3s 3ms/step - loss: 0.2678 - accuracy: 0.8989 - val_loss: 0.2347 - val_accuracy: 0.9107\n",
      "Epoch 26/100\n",
      "848/848 [==============================] - 3s 3ms/step - loss: 0.2707 - accuracy: 0.9005 - val_loss: 0.2568 - val_accuracy: 0.9054\n",
      "Epoch 27/100\n",
      "848/848 [==============================] - 3s 3ms/step - loss: 0.2686 - accuracy: 0.9002 - val_loss: 0.2347 - val_accuracy: 0.9147\n",
      "Epoch 28/100\n",
      "848/848 [==============================] - 3s 3ms/step - loss: 0.2741 - accuracy: 0.8986 - val_loss: 0.2373 - val_accuracy: 0.9090\n",
      "Epoch 29/100\n",
      "848/848 [==============================] - 3s 3ms/step - loss: 0.2728 - accuracy: 0.9007 - val_loss: 0.2255 - val_accuracy: 0.9165\n",
      "Epoch 30/100\n",
      "848/848 [==============================] - 3s 3ms/step - loss: 0.2628 - accuracy: 0.9027 - val_loss: 0.2345 - val_accuracy: 0.9132\n",
      "Epoch 31/100\n",
      "848/848 [==============================] - 3s 3ms/step - loss: 0.2643 - accuracy: 0.9033 - val_loss: 0.2340 - val_accuracy: 0.9149\n",
      "Epoch 32/100\n",
      "848/848 [==============================] - 3s 3ms/step - loss: 0.2609 - accuracy: 0.9040 - val_loss: 0.2238 - val_accuracy: 0.9195\n",
      "Epoch 33/100\n",
      "848/848 [==============================] - 3s 3ms/step - loss: 0.2609 - accuracy: 0.9022 - val_loss: 0.2354 - val_accuracy: 0.9125\n",
      "Epoch 34/100\n",
      "848/848 [==============================] - 3s 3ms/step - loss: 0.2616 - accuracy: 0.9025 - val_loss: 0.2238 - val_accuracy: 0.9157\n",
      "Epoch 35/100\n",
      "848/848 [==============================] - 4s 4ms/step - loss: 0.2558 - accuracy: 0.9044 - val_loss: 0.2234 - val_accuracy: 0.9202\n",
      "Epoch 36/100\n",
      "848/848 [==============================] - 3s 4ms/step - loss: 0.2566 - accuracy: 0.9045 - val_loss: 0.2302 - val_accuracy: 0.9160\n",
      "Epoch 37/100\n",
      "848/848 [==============================] - 3s 4ms/step - loss: 0.2612 - accuracy: 0.9043 - val_loss: 0.2310 - val_accuracy: 0.9152\n",
      "Epoch 38/100\n",
      "848/848 [==============================] - 3s 4ms/step - loss: 0.2670 - accuracy: 0.9035 - val_loss: 0.2279 - val_accuracy: 0.9147\n",
      "Epoch 39/100\n",
      "848/848 [==============================] - 3s 3ms/step - loss: 0.2577 - accuracy: 0.9046 - val_loss: 0.2294 - val_accuracy: 0.9154\n",
      "Epoch 40/100\n",
      "848/848 [==============================] - 3s 3ms/step - loss: 0.2590 - accuracy: 0.9050 - val_loss: 0.2242 - val_accuracy: 0.9147\n"
     ]
    },
    {
     "data": {
      "text/plain": [
       "<keras.callbacks.History at 0x25a95274f70>"
      ]
     },
     "execution_count": 13,
     "metadata": {},
     "output_type": "execute_result"
    }
   ],
   "source": [
    "tensorboard = TensorBoard(log_dir=\"logs\")\n",
    "# define early stopping to stop training after 5 epochs of not improving\n",
    "early_stopping = EarlyStopping(mode=\"min\", patience=5, restore_best_weights=True)\n",
    "\n",
    "batch_size = 64\n",
    "epochs = 100\n",
    "model.fit(data[\"X_train\"], data[\"y_train\"], epochs=epochs, batch_size=batch_size, validation_data=(data[\"X_valid\"], data[\"y_valid\"]),\n",
    "          callbacks=[tensorboard, early_stopping])"
   ]
  },
  {
   "cell_type": "code",
   "execution_count": 14,
   "id": "5b859c3a",
   "metadata": {},
   "outputs": [
    {
     "name": "stdout",
     "output_type": "stream",
     "text": [
      "Evaluating the model using 6694 samples...\n",
      "Loss: 0.2265\n",
      "Accuracy: 91.66%\n"
     ]
    }
   ],
   "source": [
    "print(f\"Evaluating the model using {len(data['X_test'])} samples...\")\n",
    "loss, accuracy = model.evaluate(data[\"X_test\"], data[\"y_test\"], verbose=0)\n",
    "print(f\"Loss: {loss:.4f}\")\n",
    "print(f\"Accuracy: {accuracy*100:.2f}%\")"
   ]
  },
  {
   "cell_type": "code",
   "execution_count": 15,
   "id": "0b83a45d",
   "metadata": {},
   "outputs": [],
   "source": [
    "model.save(\"results/model.h5\")"
   ]
  },
  {
   "cell_type": "code",
   "execution_count": 16,
   "id": "2790c7ae",
   "metadata": {},
   "outputs": [],
   "source": [
    "# import pyaudio\n",
    "# import os\n",
    "# import wave\n",
    "# from array import array\n",
    "# from sys import byteorder\n",
    "# from struct import pack\n",
    "\n",
    "# def record(outputfile):\n",
    "#     CHUNK = 1024\n",
    "#     FORMAT = pyaudio.paInt16\n",
    "#     CHANNELS = 2\n",
    "#     RATE = 44100\n",
    "#     RECORD_SECONDS = 10\n",
    "\n",
    "#     p = pyaudio.PyAudio()\n",
    "#     stream = p.open(format=FORMAT,\n",
    "#     channels=CHANNELS,\n",
    "#     rate=RATE,\n",
    "#     input=True,\n",
    "#     frames_per_buffer=CHUNK)\n",
    "\n",
    "#     print(\"Recording......\")\n",
    "\n",
    "#     frames = []\n",
    "\n",
    "#     for i in range(0,int(RATE/CHUNK*RECORD_SECONDS)):\n",
    "#         data = stream.read(CHUNK)\n",
    "#         frames.append(data)\n",
    "    \n",
    "#     print(\"Done Recording...\")\n",
    "\n",
    "#     stream.stop_stream()\n",
    "#     stream.close()\n",
    "#     p.terminate()\n",
    "\n",
    "#     wf = wave.open(outputfile,'wb')\n",
    "#     wf.setnchannels(CHANNELS)\n",
    "#     wf.setsampwidth(p.get_sample_size(FORMAT))\n",
    "#     wf.setframerate(RATE)\n",
    "#     wf.writeframes(b''.join(frames))\n",
    "#     wf.close()\n",
    "\n",
    "# # record('output1.wav')\n",
    "\n"
   ]
  },
  {
   "cell_type": "code",
   "execution_count": 17,
   "id": "58a67e9d",
   "metadata": {},
   "outputs": [],
   "source": [
    "def extract_feature(file_name, **kwargs):\n",
    "    \"\"\"\n",
    "    Extract feature from audio file `file_name`\n",
    "        Features supported:\n",
    "            - MFCC (mfcc)\n",
    "            - Chroma (chroma)\n",
    "            - MEL Spectrogram Frequency (mel)\n",
    "            - Contrast (contrast)\n",
    "            - Tonnetz (tonnetz)\n",
    "    \"\"\"\n",
    "    mfcc = kwargs.get(\"mfcc\")\n",
    "    chroma = kwargs.get(\"chroma\")\n",
    "    mel = kwargs.get(\"mel\")\n",
    "    contrast = kwargs.get(\"contrast\")\n",
    "    tonnetz = kwargs.get(\"tonnetz\")\n",
    "    X, sample_rate = librosa.core.load(file_name)\n",
    "    if chroma or contrast:\n",
    "        stft = np.abs(librosa.stft(X))\n",
    "    result = np.array([])\n",
    "    if mfcc:\n",
    "        mfccs = np.mean(librosa.feature.mfcc(y=X, sr=sample_rate, n_mfcc=40).T, axis=0)\n",
    "        result = np.hstack((result, mfccs))\n",
    "    if chroma:\n",
    "        chroma = np.mean(librosa.feature.chroma_stft(S=stft, sr=sample_rate).T,axis=0)\n",
    "        result = np.hstack((result, chroma))\n",
    "    if mel:\n",
    "        mel = np.mean(librosa.feature.melspectrogram(X, sr=sample_rate).T,axis=0)\n",
    "        result = np.hstack((result, mel))\n",
    "    if contrast:\n",
    "        contrast = np.mean(librosa.feature.spectral_contrast(S=stft, sr=sample_rate).T,axis=0)\n",
    "        result = np.hstack((result, contrast))\n",
    "    if tonnetz:\n",
    "        tonnetz = np.mean(librosa.feature.tonnetz(y=librosa.effects.harmonic(X), sr=sample_rate).T,axis=0)\n",
    "        result = np.hstack((result, tonnetz))\n",
    "    return result"
   ]
  },
  {
   "cell_type": "code",
   "execution_count": 19,
   "id": "be0a58f0",
   "metadata": {},
   "outputs": [
    {
     "name": "stdout",
     "output_type": "stream",
     "text": [
      "Model: \"sequential_2\"\n",
      "_________________________________________________________________\n",
      " Layer (type)                Output Shape              Param #   \n",
      "=================================================================\n",
      " dense_12 (Dense)            (None, 256)               33024     \n",
      "                                                                 \n",
      " dropout_10 (Dropout)        (None, 256)               0         \n",
      "                                                                 \n",
      " dense_13 (Dense)            (None, 256)               65792     \n",
      "                                                                 \n",
      " dropout_11 (Dropout)        (None, 256)               0         \n",
      "                                                                 \n",
      " dense_14 (Dense)            (None, 128)               32896     \n",
      "                                                                 \n",
      " dropout_12 (Dropout)        (None, 128)               0         \n",
      "                                                                 \n",
      " dense_15 (Dense)            (None, 128)               16512     \n",
      "                                                                 \n",
      " dropout_13 (Dropout)        (None, 128)               0         \n",
      "                                                                 \n",
      " dense_16 (Dense)            (None, 64)                8256      \n",
      "                                                                 \n",
      " dropout_14 (Dropout)        (None, 64)                0         \n",
      "                                                                 \n",
      " dense_17 (Dense)            (None, 1)                 65        \n",
      "                                                                 \n",
      "=================================================================\n",
      "Total params: 156,545\n",
      "Trainable params: 156,545\n",
      "Non-trainable params: 0\n",
      "_________________________________________________________________\n",
      "1/1 [==============================] - 0s 84ms/step\n"
     ]
    },
    {
     "name": "stderr",
     "output_type": "stream",
     "text": [
      "C:\\Users\\PC\\AppData\\Local\\Temp\\ipykernel_868\\1908479891.py:29: FutureWarning: Pass y=[-3.5229730e-06 -9.4623101e-06 -3.3905148e-06 ...  3.0257091e-02\n",
      "  3.3409148e-02  4.0582184e-02] as keyword args. From version 0.10 passing these as positional arguments will result in an error\n",
      "  mel = np.mean(librosa.feature.melspectrogram(X, sr=sample_rate).T,axis=0)\n"
     ]
    },
    {
     "name": "stdout",
     "output_type": "stream",
     "text": [
      "Result: male\n",
      "Probabilities::: Male: 96.24%    Female: 3.76%\n"
     ]
    }
   ],
   "source": [
    "import librosa\n",
    "model = create_model()\n",
    "\n",
    "model.load_weights(\"results/model.h5\")\n",
    "# extract features and reshape it\n",
    "features = extract_feature('output3.wav', mel=True).reshape(1, -1)\n",
    "# predict the gender\n",
    "male_prob = model.predict(features)[0][0]\n",
    "female_prob = 1 - male_prob\n",
    "gender = \"male\" if male_prob > female_prob else \"female\"\n",
    "# show the result\n",
    "print(\"Result:\", gender)\n",
    "print(f\"Probabilities::: Male: {male_prob*100:.2f}%    Female: {female_prob*100:.2f}%\")"
   ]
  },
  {
   "cell_type": "code",
   "execution_count": null,
   "id": "fe110df6",
   "metadata": {},
   "outputs": [],
   "source": []
  }
 ],
 "metadata": {
  "kernelspec": {
   "display_name": "Python 3 (ipykernel)",
   "language": "python",
   "name": "python3"
  },
  "language_info": {
   "codemirror_mode": {
    "name": "ipython",
    "version": 3
   },
   "file_extension": ".py",
   "mimetype": "text/x-python",
   "name": "python",
   "nbconvert_exporter": "python",
   "pygments_lexer": "ipython3",
   "version": "3.10.5"
  }
 },
 "nbformat": 4,
 "nbformat_minor": 5
}
